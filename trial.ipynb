{
 "cells": [
  {
   "cell_type": "code",
   "execution_count": 146,
   "id": "3bd23961",
   "metadata": {},
   "outputs": [],
   "source": [
    "from abc import ABC\n",
    "from abc import abstractmethod\n",
    "from dataclasses import dataclass\n",
    "from enum import Enum\n",
    "from enum import auto\n",
    "from itertools import combinations\n",
    "from pprint import pprint\n",
    "from typing import override\n",
    "from unicodedata import normalize\n",
    "\n",
    "import matplotlib.pyplot as plt\n",
    "import nltk\n",
    "import numpy as np\n",
    "from datasets import load_dataset\n",
    "from nltk.tokenize import sent_tokenize\n",
    "from sentence_transformers import SentenceTransformer\n",
    "from sentence_transformers import SimilarityFunction\n",
    "from sentence_transformers import CrossEncoder\n",
    "from sklearn.metrics import accuracy_score\n",
    "from sklearn.metrics import precision_recall_fscore_support\n",
    "from torch import diag\n",
    "from tqdm import tqdm\n"
   ]
  },
  {
   "cell_type": "code",
   "execution_count": 147,
   "id": "9918a257",
   "metadata": {},
   "outputs": [
    {
     "name": "stderr",
     "output_type": "stream",
     "text": [
      "[nltk_data] Downloading package punkt to .nltk/...\n",
      "[nltk_data]   Package punkt is already up-to-date!\n"
     ]
    },
    {
     "data": {
      "text/plain": [
       "True"
      ]
     },
     "execution_count": 147,
     "metadata": {},
     "output_type": "execute_result"
    }
   ],
   "source": [
    "nltk.download(\"punkt\", download_dir='.nltk/')"
   ]
  },
  {
   "cell_type": "code",
   "execution_count": 148,
   "id": "7550e857",
   "metadata": {},
   "outputs": [
    {
     "name": "stdout",
     "output_type": "stream",
     "text": [
      "Loading datasets...\n",
      "Loading datasets done.\n"
     ]
    }
   ],
   "source": [
    "print('Loading datasets...')\n",
    "dataset_snli = load_dataset('stanfordnlp/snli', split='test', cache_dir='.datasets/')\n",
    "dataset_mnli = load_dataset('nyu-mll/multi_nli', split='validation_matched', cache_dir='.datasets/')\n",
    "dataset_anli = load_dataset('facebook/anli', split='test_r3', cache_dir='.datasets/')\n",
    "print('Loading datasets done.')"
   ]
  },
  {
   "cell_type": "code",
   "execution_count": 149,
   "id": "63e8e574",
   "metadata": {},
   "outputs": [],
   "source": [
    "class Label(Enum):\n",
    "    ENTAILMENT = auto()\n",
    "    NOT_ENTAILMENT = auto()\n",
    "    NOT_AVAILABLE = auto()\n",
    "\n",
    "\n",
    "@dataclass\n",
    "class Example:\n",
    "    premise: str\n",
    "    hypothesis: str\n",
    "    label: Label\n",
    "\n",
    "\n",
    "class ExampleSNLI(Example):\n",
    "    def __init__(self, example: dict):\n",
    "        label = self._to_binary_class(example['label'])\n",
    "        super().__init__(example['premise'], example['hypothesis'], label)\n",
    "    \n",
    "    def _to_binary_class(self, label: int) -> Label:\n",
    "        return Label.ENTAILMENT if label == 0 else Label.NOT_ENTAILMENT\n",
    "\n",
    "\n",
    "class ExampleMNLI(Example):\n",
    "    def __init__(self, example: dict):\n",
    "        label = self._to_binary_class(example['label'])\n",
    "        super().__init__(example['premise'], example['hypothesis'], label)\n",
    "    \n",
    "    def _to_binary_class(self, label: int) -> Label:\n",
    "        return Label.ENTAILMENT if label == 0 else Label.NOT_ENTAILMENT\n",
    "\n",
    "\n",
    "class ExampleANLI(Example):\n",
    "    def __init__(self, example: dict):\n",
    "        label = self._to_binary_class(example['label'])\n",
    "        super().__init__(example['premise'], example['hypothesis'], label)\n",
    "    \n",
    "    def _to_binary_class(self, label: int) -> Label:\n",
    "        return Label.ENTAILMENT if label == 0 else Label.NOT_ENTAILMENT"
   ]
  },
  {
   "cell_type": "code",
   "execution_count": 150,
   "id": "4337fddd",
   "metadata": {},
   "outputs": [],
   "source": [
    "examples_snli = [ExampleSNLI(example) for example in dataset_snli]\n",
    "examples_mnli = [ExampleMNLI(example) for example in dataset_mnli]\n",
    "examples_anli = [ExampleANLI(example) for example in dataset_anli]"
   ]
  },
  {
   "cell_type": "code",
   "execution_count": 151,
   "id": "abe8dcf6",
   "metadata": {},
   "outputs": [],
   "source": [
    "class Model(ABC):\n",
    "    @abstractmethod\n",
    "    def predict(self, example: Example) -> int:\n",
    "        pass\n",
    "    \n",
    "    @abstractmethod\n",
    "    def predict_batch(self, examples: list[Example]) -> list[int]:\n",
    "        pass\n",
    "\n",
    "    @abstractmethod\n",
    "    def tokenize(self, premise: str, hypothesis: str) -> list[int]:\n",
    "        pass\n",
    "\n",
    "    @abstractmethod\n",
    "    def get_max_token_length(self) -> int:\n",
    "        pass\n",
    "\n",
    "\n",
    "class SBERTSimilarity(Model):\n",
    "    def __init__(self, pretrained_model_name: str):\n",
    "        self.model = SentenceTransformer(pretrained_model_name, similarity_fn_name=SimilarityFunction.COSINE)\n",
    "        self.tokenizer = self.model.tokenizer\n",
    "        self.max_token_length = self.model.tokenizer.model_max_length\n",
    "        self.THRESHOLD = 0.7854461757884753 # from ordinal logistic regression on STS Benchmark \n",
    "\n",
    "    def similarity(self, example: Example) -> float:\n",
    "        premise_sentences = sent_tokenize(example.premise)\n",
    "        embeddings_premise = self.model.encode(premise_sentences)\n",
    "        embeddings_hypothesis = self.model.encode([example.hypothesis])\n",
    "        return self.model.similarity(embeddings_premise, embeddings_hypothesis)\n",
    "\n",
    "    @override\n",
    "    def predict(self, example: Example) -> Label:\n",
    "        embeddings_premise = self.model.encode([example.premise])\n",
    "        embeddings_hypothesis = self.model.encode([example.hypothesis])\n",
    "        score = self.model.similarity(embeddings_premise, embeddings_hypothesis)[0][0]\n",
    "        return Label.ENTAILMENT if score >= self.THRESHOLD else Label.NOT_ENTAILMENT\n",
    "    \n",
    "    @override\n",
    "    def predict_batch(self, examples: list[Example]) -> list[Label]:\n",
    "        embeddings_premise = self.model.encode([example.premise for example in examples])\n",
    "        embeddings_hypothese = self.model.encode([example.hypothesis for example in examples])\n",
    "        scores = self.model.similarity(embeddings_premise, embeddings_hypothese)\n",
    "        return [Label.ENTAILMENT if score >= self.THRESHOLD else Label.NOT_ENTAILMENT for score in diag(scores)]\n",
    "    \n",
    "    @override\n",
    "    def tokenize(self, premise: str, hypothesis: str) -> list[int]:\n",
    "        tokens = self.tokenizer.tokenize(premise, hypothesis)\n",
    "        token_ids = self.tokenizer.convert_tokens_to_ids(tokens)\n",
    "        return token_ids\n",
    "    \n",
    "    @override\n",
    "    def get_max_token_length(self) -> int:\n",
    "        return self.max_token_length\n",
    "\n",
    "\n",
    "class SBERTClassification(Model):\n",
    "    def __init__(self, pretrained_model_name: str):\n",
    "        self.model = CrossEncoder(pretrained_model_name)\n",
    "        self.tokenizer = self.model.tokenizer\n",
    "        self.max_token_length = self.model.tokenizer.model_max_length\n",
    "        self.ENTAILMENT = 1 # see https://huggingface.co/cross-encoder/nli-deberta-v3-small\n",
    "    \n",
    "    @override\n",
    "    def predict(self, example: Example) -> Label:\n",
    "        score = self.model.predict([(example.premise, example.hypothesis)])[0]\n",
    "        return Label.ENTAILMENT if np.argmax(score) == self.ENTAILMENT else Label.NOT_ENTAILMENT\n",
    "\n",
    "    @override\n",
    "    def predict_batch(self, examples: list[Example]) -> list[Label]:\n",
    "        scores = self.model.predict([(example.premise, example.hypothesis) for example in examples])\n",
    "        return [Label.ENTAILMENT if np.argmax(score) == self.ENTAILMENT else Label.NOT_ENTAILMENT for score in scores]\n",
    "\n",
    "    @override\n",
    "    def tokenize(self, premise: str, hypothesis: str) -> list[int]:\n",
    "        tokens = self.tokenizer.tokenize(premise, hypothesis)\n",
    "        token_ids = self.tokenizer.convert_tokens_to_ids(tokens)\n",
    "        return token_ids\n",
    "\n",
    "    @override\n",
    "    def get_max_token_length(self) -> int:\n",
    "        return self.max_token_length"
   ]
  },
  {
   "cell_type": "code",
   "execution_count": 152,
   "id": "26ffe23b",
   "metadata": {},
   "outputs": [],
   "source": [
    "def select_k_sentences(text: str, k: int) -> list[str]:\n",
    "    sentences = sent_tokenize(normalize('NFKC', text))\n",
    "    return [' '.join(comb) for comb in combinations(sentences, max(k, 0))]\n",
    "\n",
    "\n",
    "def breakdown_sub_examples(model: Model, example: Example, max_of_select_sentences: int = 0) -> list[Example]:\n",
    "    if max_of_select_sentences <= 0:\n",
    "        return [Example(example.premise, example.hypothesis, Label.NOT_AVAILABLE)]\n",
    "\n",
    "    sub_premises = []\n",
    "    for k in range(1, max_of_select_sentences + 1):\n",
    "        sub_premises.extend(select_k_sentences(example.premise, k))\n",
    "    \n",
    "    # remove duplicated sentences\n",
    "    sub_premises = list(set(sub_premises)) \n",
    "\n",
    "    sub_examples = []\n",
    "    max_token_length = model.get_max_token_length()\n",
    "    for sub_premise in sub_premises:\n",
    "        tokens = model.tokenize(sub_premise, example.hypothesis)\n",
    "\n",
    "        # skip this sub-example if it would exceed the model's token limit\n",
    "        if len(tokens) > max_token_length:  \n",
    "            continue\n",
    "\n",
    "        sub_examples.append(Example(sub_premise, example.hypothesis, Label.NOT_AVAILABLE))\n",
    "    return sub_examples"
   ]
  },
  {
   "cell_type": "code",
   "execution_count": 153,
   "id": "ab9f9805",
   "metadata": {},
   "outputs": [],
   "source": [
    "def metrics(y_true: list[Label], y_pred: list[Label]) -> tuple[float, float, float, float]:\n",
    "    y_true = [1 if label == Label.ENTAILMENT else 0 for label in y_true]\n",
    "    y_pred = [1 if label == Label.ENTAILMENT else 0 for label in y_pred]\n",
    "    accuracy = accuracy_score(y_true, y_pred)\n",
    "    precision, recall, f1, _ = precision_recall_fscore_support(y_true, y_pred, average='binary', zero_division=0)\n",
    "    return accuracy, precision, recall, f1\n",
    "\n",
    "\n",
    "def any_entailment(y_pred: list[Label]) -> Label:\n",
    "    return Label.ENTAILMENT if any(label == Label.ENTAILMENT for label in y_pred) else Label.NOT_ENTAILMENT\n",
    "\n",
    "\n",
    "def evaluate_model(model: Model, examples: list[Example], max_of_select_sentences: int = 0) -> dict:\n",
    "    y_true = [example.label for example in examples]\n",
    "    y_pred = []\n",
    "\n",
    "    # flatten all sub-examples, and predict them at once\n",
    "    all_sub_examples = []\n",
    "    num_of_sub_examples = []\n",
    "    for example in examples:\n",
    "        sub_examples = breakdown_sub_examples(model, example, max_of_select_sentences)\n",
    "        all_sub_examples.extend(sub_examples)\n",
    "        num_of_sub_examples.append(len(sub_examples))\n",
    "    all_pred_labels = model.predict_batch(all_sub_examples)\n",
    "    offset = 0\n",
    "    for num_of_sub_example in num_of_sub_examples:\n",
    "        sub_pred_labels = all_pred_labels[offset : offset + num_of_sub_example]\n",
    "        offset += num_of_sub_example\n",
    "        y_pred.append(any_entailment(sub_pred_labels))\n",
    "\n",
    "    accuracy, precision, recall, f1 = metrics(y_true, y_pred)\n",
    "    return { 'accuracy': accuracy, 'precision': precision, 'recall': recall, 'f1': f1 }"
   ]
  },
  {
   "cell_type": "code",
   "execution_count": 154,
   "id": "a8a6bdef",
   "metadata": {},
   "outputs": [
    {
     "name": "stdout",
     "output_type": "stream",
     "text": [
      "Evaluating model on ANLI...\n",
      "{'accuracy': 0.6066666666666667,\n",
      " 'f1': 0.2053872053872054,\n",
      " 'precision': 0.3177083333333333,\n",
      " 'recall': 0.1517412935323383}\n"
     ]
    }
   ],
   "source": [
    "model_classification = SBERTClassification('cross-encoder/nli-deberta-v3-small')\n",
    "\n",
    "print('Evaluating model on ANLI...')\n",
    "metrics_anli = evaluate_model(model_classification, examples_anli)\n",
    "pprint(metrics_anli)"
   ]
  },
  {
   "cell_type": "code",
   "execution_count": 155,
   "id": "978a76ae",
   "metadata": {},
   "outputs": [
    {
     "name": "stdout",
     "output_type": "stream",
     "text": [
      "Evaluating model on ANLI...\n",
      "{'accuracy': 0.635,\n",
      " 'f1': 0.09504132231404959,\n",
      " 'precision': 0.2804878048780488,\n",
      " 'recall': 0.05721393034825871}\n"
     ]
    }
   ],
   "source": [
    "model_similarity = SBERTSimilarity('sentence-transformers/all-MiniLM-L6-v2')\n",
    "\n",
    "print('Evaluating model on ANLI...')\n",
    "metrics_anli = evaluate_model(model_similarity, examples_anli)\n",
    "pprint(metrics_anli)"
   ]
  },
  {
   "cell_type": "code",
   "execution_count": 156,
   "id": "b385ec7b",
   "metadata": {},
   "outputs": [
    {
     "name": "stderr",
     "output_type": "stream",
     "text": [
      "100%|██████████| 4/4 [01:03<00:00, 15.77s/it]\n"
     ]
    }
   ],
   "source": [
    "scores_classification: dict[int, object] = {}\n",
    "scores_similarity: dict[int, object] = {}\n",
    "for max_of_select_sentences in tqdm(range(1, 5)):\n",
    "    metrics_classification = evaluate_model(model_classification, examples_anli, max_of_select_sentences=max_of_select_sentences)\n",
    "    scores_classification[max_of_select_sentences] = metrics_classification\n",
    "    metrics_similarity = evaluate_model(model_similarity, examples_anli, max_of_select_sentences=max_of_select_sentences)\n",
    "    scores_similarity[max_of_select_sentences] = metrics_similarity"
   ]
  },
  {
   "cell_type": "code",
   "execution_count": 171,
   "id": "3bee3599",
   "metadata": {},
   "outputs": [
    {
     "data": {
      "image/png": "[encoded data removed]",
      "text/plain": [
       "<Figure size 1000x800 with 4 Axes>"
      ]
     },
     "metadata": {},
     "output_type": "display_data"
    }
   ],
   "source": [
    "fig, ax = plt.subplots(2, 2, figsize=(10, 8))\n",
    "ax[0, 0].plot(scores_classification.keys(), [score['accuracy'] for score in scores_classification.values()], 'ro', label='Classification')\n",
    "ax[0, 1].plot(scores_classification.keys(), [score['precision'] for score in scores_classification.values()], 'ro', label='Classification')\n",
    "ax[1, 0].plot(scores_classification.keys(), [score['recall'] for score in scores_classification.values()], 'ro', label='Classification')\n",
    "ax[1, 1].plot(scores_classification.keys(), [score['f1'] for score in scores_classification.values()], 'ro', label='Classification')\n",
    "ax[0, 0].plot(scores_similarity.keys(), [score['accuracy'] for score in scores_similarity.values()], 'bs', label='Similarity')\n",
    "ax[0, 1].plot(scores_similarity.keys(), [score['precision'] for score in scores_similarity.values()], 'bs', label='Similarity')\n",
    "ax[1, 0].plot(scores_similarity.keys(), [score['recall'] for score in scores_similarity.values()], 'bs', label='Similarity')   \n",
    "ax[1, 1].plot(scores_similarity.keys(), [score['f1'] for score in scores_similarity.values()], 'bs', label='Similarity')\n",
    "\n",
    "titles = ['Accuracy', 'Precision', 'Recall', 'F1']\n",
    "for i in range(2):\n",
    "    for j in range(2):\n",
    "        ax[i, j].set_title(titles[2*i + j], fontsize=14, fontweight='bold')\n",
    "        ax[i, j].set_xlabel('Max # of Selected Sentences')\n",
    "        ax[i, j].set_ylabel('Score')\n",
    "        ax[i, j].set_ylim(0, 1)\n",
    "        ax[i, j].grid(True)\n",
    "        ax[i, j].legend(loc='upper right')\n",
    "\n",
    "plt.tight_layout()\n",
    "plt.show()\n"
   ]
  }
 ],
 "metadata": {
  "kernelspec": {
   "display_name": "venv",
   "language": "python",
   "name": "python3"
  },
  "language_info": {
   "codemirror_mode": {
    "name": "ipython",
    "version": 3
   },
   "file_extension": ".py",
   "mimetype": "text/x-python",
   "name": "python",
   "nbconvert_exporter": "python",
   "pygments_lexer": "ipython3",
   "version": "3.12.8"
  }
 },
 "nbformat": 4,
 "nbformat_minor": 5
}
