{
 "cells": [
  {
   "cell_type": "code",
   "execution_count": 124,
   "id": "3bd23961",
   "metadata": {},
   "outputs": [],
   "source": [
    "from abc import ABC\n",
    "from abc import abstractmethod\n",
    "from dataclasses import dataclass\n",
    "from enum import Enum\n",
    "from enum import auto\n",
    "from itertools import combinations\n",
    "from pprint import pprint\n",
    "from typing import override\n",
    "from unicodedata import normalize\n",
    "\n",
    "import matplotlib.pyplot as plt\n",
    "import nltk\n",
    "import numpy as np\n",
    "from datasets import load_dataset\n",
    "from nltk.tokenize import sent_tokenize\n",
    "from sentence_transformers import CrossEncoder\n",
    "from sklearn.metrics import accuracy_score\n",
    "from sklearn.metrics import precision_recall_fscore_support\n",
    "from tqdm import tqdm\n"
   ]
  },
  {
   "cell_type": "code",
   "execution_count": 101,
   "id": "9918a257",
   "metadata": {},
   "outputs": [
    {
     "name": "stderr",
     "output_type": "stream",
     "text": [
      "[nltk_data] Downloading package punkt to .nltk/...\n",
      "[nltk_data]   Package punkt is already up-to-date!\n"
     ]
    },
    {
     "data": {
      "text/plain": [
       "True"
      ]
     },
     "execution_count": 101,
     "metadata": {},
     "output_type": "execute_result"
    }
   ],
   "source": [
    "nltk.download(\"punkt\", download_dir='.nltk/')"
   ]
  },
  {
   "cell_type": "code",
   "execution_count": 102,
   "id": "7550e857",
   "metadata": {},
   "outputs": [
    {
     "name": "stdout",
     "output_type": "stream",
     "text": [
      "Loading datasets...\n",
      "Loading datasets done.\n"
     ]
    }
   ],
   "source": [
    "print('Loading datasets...')\n",
    "dataset_snli = load_dataset('stanfordnlp/snli', split='test')\n",
    "dataset_mnli = load_dataset('nyu-mll/multi_nli', split='validation_matched')\n",
    "dataset_anli = load_dataset('facebook/anli', split='test_r3')\n",
    "print('Loading datasets done.')"
   ]
  },
  {
   "cell_type": "code",
   "execution_count": 103,
   "id": "63e8e574",
   "metadata": {},
   "outputs": [],
   "source": [
    "class Label(Enum):\n",
    "    ENTAILMENT = auto()\n",
    "    NOT_ENTAILMENT = auto()\n",
    "    NOT_AVAILABLE = auto()\n",
    "\n",
    "\n",
    "@dataclass\n",
    "class Example:\n",
    "    premise: str\n",
    "    hypothesis: str\n",
    "    label: Label\n",
    "\n",
    "\n",
    "class ExampleSNLI(Example):\n",
    "    def __init__(self, example: dict):\n",
    "        label = self._to_binary_class(example['label'])\n",
    "        super().__init__(example['premise'], example['hypothesis'], label)\n",
    "    \n",
    "    def _to_binary_class(self, label: int) -> Label:\n",
    "        return Label.ENTAILMENT if label == 0 else Label.NOT_ENTAILMENT\n",
    "\n",
    "\n",
    "class ExampleMNLI(Example):\n",
    "    def __init__(self, example: dict):\n",
    "        label = self._to_binary_class(example['label'])\n",
    "        super().__init__(example['premise'], example['hypothesis'], label)\n",
    "    \n",
    "    def _to_binary_class(self, label: int) -> Label:\n",
    "        return Label.ENTAILMENT if label == 0 else Label.NOT_ENTAILMENT\n",
    "\n",
    "\n",
    "class ExampleANLI(Example):\n",
    "    def __init__(self, example: dict):\n",
    "        label = self._to_binary_class(example['label'])\n",
    "        super().__init__(example['premise'], example['hypothesis'], label)\n",
    "    \n",
    "    def _to_binary_class(self, label: int) -> Label:\n",
    "        return Label.ENTAILMENT if label == 0 else Label.NOT_ENTAILMENT"
   ]
  },
  {
   "cell_type": "code",
   "execution_count": 104,
   "id": "4337fddd",
   "metadata": {},
   "outputs": [],
   "source": [
    "examples_snli = [ExampleSNLI(example) for example in dataset_snli]\n",
    "examples_mnli = [ExampleMNLI(example) for example in dataset_mnli]\n",
    "examples_anli = [ExampleANLI(example) for example in dataset_anli]"
   ]
  },
  {
   "cell_type": "code",
   "execution_count": 125,
   "id": "abe8dcf6",
   "metadata": {},
   "outputs": [],
   "source": [
    "class Model(ABC):\n",
    "    @abstractmethod\n",
    "    def predict(self, example: Example) -> int:\n",
    "        pass\n",
    "    \n",
    "    @abstractmethod\n",
    "    def predict_batch(self, examples: list[Example]) -> list[int]:\n",
    "        pass\n",
    "\n",
    "    @abstractmethod\n",
    "    def tokenize(self, premise: str, hypothesis: str) -> list[int]:\n",
    "        pass\n",
    "\n",
    "    @abstractmethod\n",
    "    def get_max_token_length(self) -> int:\n",
    "        pass\n",
    "\n",
    "\n",
    "class SBERT(Model):\n",
    "    def __init__(self, pretrained_model_name: str):\n",
    "        self.model = CrossEncoder(pretrained_model_name)\n",
    "        self.tokenizer = self.model.tokenizer\n",
    "        self.max_token_length = self.model.tokenizer.model_max_length\n",
    "        self.ENTAILMENT = 1 # see https://huggingface.co/cross-encoder/nli-deberta-v3-small\n",
    "    \n",
    "    @override\n",
    "    def predict(self, example: Example) -> Label:\n",
    "        score = self.model.predict([(example.premise, example.hypothesis)])[0]\n",
    "        return Label.ENTAILMENT if np.argmax(score) == self.ENTAILMENT else Label.NOT_ENTAILMENT\n",
    "    \n",
    "    @override\n",
    "    def predict_batch(self, examples: list[Example]) -> list[Label]:\n",
    "        scores = self.model.predict([(example.premise, example.hypothesis) for example in examples])\n",
    "        return [Label.ENTAILMENT if np.argmax(score) == self.ENTAILMENT else Label.NOT_ENTAILMENT for score in scores]\n",
    "\n",
    "    @override\n",
    "    def tokenize(self, premise: str, hypothesis: str) -> list[int]:\n",
    "        tokens = self.tokenizer.tokenize(premise, hypothesis)\n",
    "        token_ids = self.tokenizer.convert_tokens_to_ids(tokens)\n",
    "        return token_ids\n",
    "\n",
    "    @override\n",
    "    def get_max_token_length(self) -> int:\n",
    "        return self.max_token_length"
   ]
  },
  {
   "cell_type": "code",
   "execution_count": null,
   "id": "26ffe23b",
   "metadata": {},
   "outputs": [],
   "source": [
    "def select_k_sentences(text: str, k: int) -> list[str]:\n",
    "    sentences = sent_tokenize(normalize('NFKC', text))\n",
    "    return [' '.join(comb) for comb in combinations(sentences, k)]\n",
    "\n",
    "\n",
    "def breakdown_sub_examples(model: Model, example: Example, num_of_select_sentences: int = 0) -> list[Example]:\n",
    "    if num_of_select_sentences <= 0:\n",
    "        return [Example(example.premise, example.hypothesis, Label.NOT_AVAILABLE)]\n",
    "    max_token_length = model.get_max_token_length()\n",
    "    sub_examples = []\n",
    "    for k in range(1, num_of_select_sentences + 1):\n",
    "        sub_premises = select_k_sentences(example.premise, k)\n",
    "        for sub_premise in sub_premises:\n",
    "            tokens = model.tokenize(sub_premise, example.hypothesis)\n",
    "            if len(tokens) > max_token_length:  # skip this sub-example if it would exceed the model's token limit\n",
    "                continue\n",
    "            sub_examples.append(Example(sub_premise, example.hypothesis, Label.NOT_AVAILABLE))\n",
    "    return sub_examples"
   ]
  },
  {
   "cell_type": "code",
   "execution_count": null,
   "id": "ab9f9805",
   "metadata": {},
   "outputs": [],
   "source": [
    "def metrics(y_true: list[Label], y_pred: list[Label]) -> tuple[float, float, float, float]:\n",
    "    y_true = [0 if label == Label.ENTAILMENT else 1 for label in y_true]\n",
    "    y_pred = [0 if label == Label.ENTAILMENT else 1 for label in y_pred]\n",
    "    accuracy = accuracy_score(y_true, y_pred)\n",
    "    precision, recall, f1, _ = precision_recall_fscore_support(y_true, y_pred, average='binary', zero_division=0)\n",
    "    return accuracy, precision, recall, f1\n",
    "\n",
    "\n",
    "def any_entailment(y_pred: list[Label]) -> Label:\n",
    "    return Label.ENTAILMENT if any(label == Label.ENTAILMENT for label in y_pred) else Label.NOT_ENTAILMENT\n",
    "\n",
    "\n",
    "def evaluate_model(model: Model, examples: list[Example], num_of_select_sentences: int = 0, use_batch: bool = True) -> dict:\n",
    "    y_true = [example.label for example in examples]\n",
    "    y_pred = []\n",
    "\n",
    "    if use_batch:\n",
    "        # flatten all sub-examples, and predict them at once\n",
    "        # this is much faster than predicting them one by one\n",
    "        all_sub_examples = []\n",
    "        num_of_sub_examples = []\n",
    "        for example in examples:\n",
    "            sub_examples = breakdown_sub_examples(model, example, num_of_select_sentences)\n",
    "            all_sub_examples.extend(sub_examples)\n",
    "            num_of_sub_examples.append(len(sub_examples))\n",
    "        all_pred_labels = model.predict_batch(all_sub_examples)\n",
    "        offset = 0\n",
    "        for num_of_sub_example in num_of_sub_examples:\n",
    "            sub_pred_labels = all_pred_labels[offset : offset + num_of_sub_example]\n",
    "            offset += num_of_sub_example\n",
    "            y_pred.append(any_entailment(sub_pred_labels))\n",
    "    else:\n",
    "        # predict each sub-example one by one\n",
    "        for example in tqdm(examples, position=0):\n",
    "            sub_examples = breakdown_sub_examples(model, example, num_of_select_sentences)\n",
    "            pred_labels = []\n",
    "            for sub_example in tqdm(sub_examples, position=1, leave=False):\n",
    "                pred_label = model.predict(sub_example)\n",
    "                pred_labels.append(pred_label)\n",
    "            y_pred.append(any_entailment(pred_labels))\n",
    "\n",
    "    accuracy, precision, recall, f1 = metrics(y_true, y_pred)\n",
    "    return { 'accuracy': accuracy, 'precision': precision, 'recall': recall, 'f1': f1 }"
   ]
  },
  {
   "cell_type": "code",
   "execution_count": 127,
   "id": "a8a6bdef",
   "metadata": {},
   "outputs": [
    {
     "name": "stdout",
     "output_type": "stream",
     "text": [
      "Evaluating model on ANLI...\n",
      "{'accuracy': 0.6066666666666667,\n",
      " 'f1': 0.7386489479512736,\n",
      " 'precision': 0.6617063492063492,\n",
      " 'recall': 0.8358395989974937}\n"
     ]
    }
   ],
   "source": [
    "model = SBERT('cross-encoder/nli-deberta-v3-small')\n",
    "\n",
    "# print('Evaluating model on SNLI...')\n",
    "# metrics_snli = evaluate_model_metrics(model, examples_snli)\n",
    "# pprint(metrics_snli)\n",
    "\n",
    "# print('Evaluating model on MNLI...')\n",
    "# metrics_mnli = evaluate_model_metrics(model, examples_mnli)\n",
    "# pprint(metrics_mnli)\n",
    "\n",
    "print('Evaluating model on ANLI...')\n",
    "metrics_anli = evaluate_model(model, examples_anli)\n",
    "pprint(metrics_anli)"
   ]
  },
  {
   "cell_type": "code",
   "execution_count": 111,
   "id": "b385ec7b",
   "metadata": {},
   "outputs": [],
   "source": [
    "scores: dict[int, object] = {}\n",
    "for num_of_select_sentences in range(1, 10):\n",
    "    metrics_anli = evaluate_model(model, examples_anli, num_of_select_sentences=num_of_select_sentences)\n",
    "    scores[num_of_select_sentences] = metrics_anli"
   ]
  },
  {
   "cell_type": "code",
   "execution_count": 121,
   "id": "3bee3599",
   "metadata": {},
   "outputs": [
    {
     "data": {
      "image/png": "[encoded data removed]",
      "text/plain": [
       "<Figure size 1000x800 with 4 Axes>"
      ]
     },
     "metadata": {},
     "output_type": "display_data"
    }
   ],
   "source": [
    "fig, ax = plt.subplots(2, 2, figsize=(10, 8))\n",
    "for num_of_select_sentences, score in scores.items():\n",
    "    ax[0, 0].plot(num_of_select_sentences, score['accuracy'], 'ro')\n",
    "    ax[0, 1].plot(num_of_select_sentences, score['precision'], 'ro')\n",
    "    ax[1, 0].plot(num_of_select_sentences, score['recall'], 'ro')\n",
    "    ax[1, 1].plot(num_of_select_sentences, score['f1'], 'ro')\n",
    "ax[0, 0].set_title('Accuracy')\n",
    "ax[0, 1].set_title('Precision')\n",
    "ax[1, 0].set_title('Recall')\n",
    "ax[1, 1].set_title('F1')\n",
    "ax[0, 0].set_xlabel('Number of selected sentences')\n",
    "ax[0, 1].set_xlabel('Number of selected sentences')\n",
    "ax[1, 0].set_xlabel('Number of selected sentences') \n",
    "ax[1, 1].set_xlabel('Number of selected sentences')\n",
    "ax[0, 0].set_ylabel('Score')\n",
    "ax[0, 1].set_ylabel('Score')\n",
    "ax[1, 0].set_ylabel('Score')\n",
    "ax[1, 1].set_ylabel('Score')\n",
    "ax[0, 0].set_ylim(0.55, 0.85)\n",
    "ax[0, 1].set_ylim(0.55, 0.85)\n",
    "ax[1, 0].set_ylim(0.55, 0.85)\n",
    "ax[1, 1].set_ylim(0.55, 0.85)\n",
    "plt.tight_layout()\n",
    "plt.show()"
   ]
  }
 ],
 "metadata": {
  "kernelspec": {
   "display_name": "venv",
   "language": "python",
   "name": "python3"
  },
  "language_info": {
   "codemirror_mode": {
    "name": "ipython",
    "version": 3
   },
   "file_extension": ".py",
   "mimetype": "text/x-python",
   "name": "python",
   "nbconvert_exporter": "python",
   "pygments_lexer": "ipython3",
   "version": "3.12.8"
  }
 },
 "nbformat": 4,
 "nbformat_minor": 5
}
